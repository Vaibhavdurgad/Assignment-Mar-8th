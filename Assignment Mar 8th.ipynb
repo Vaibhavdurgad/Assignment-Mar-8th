{
 "cells": [
  {
   "cell_type": "markdown",
   "id": "372e9556-0346-41b5-893b-5195745d8298",
   "metadata": {},
   "source": [
    "Q1. What is the Probability density function?"
   ]
  },
  {
   "cell_type": "markdown",
   "id": "bdeeb83b-d343-4ba5-a2ac-ac0884b9c42d",
   "metadata": {},
   "source": [
    "Ans:A function that defines the relationship between a random variable and its probability, such that you can find the probability of the variable using the function, is called a Probability Density Function (PDF) in statistics."
   ]
  },
  {
   "cell_type": "markdown",
   "id": "6d6a69fc-64d5-465b-9252-968b7452f2a8",
   "metadata": {},
   "source": [
    "Q2. What are the types of Probability distribution?"
   ]
  },
  {
   "cell_type": "markdown",
   "id": "cabb3b43-920b-474c-9bfc-590ec0832724",
   "metadata": {},
   "source": [
    "Ans:Normal distribution, \n",
    "Bernoulli Distribution,\n",
    "Binomial distribution, \n",
    "Poisson distribution,\n",
    "Log Normal distribution,\n",
    "Uniform distribution "
   ]
  },
  {
   "cell_type": "markdown",
   "id": "e0bd526d-c6ad-42a0-958b-ae56b8ffd485",
   "metadata": {},
   "source": [
    "Q3. Write a Python function to calculate the probability density function of a normal distribution with\n",
    "given mean and standard deviation at a given point."
   ]
  },
  {
   "cell_type": "code",
   "execution_count": null,
   "id": "8e6a991d-525e-4b98-bd50-87e3c11c2ecf",
   "metadata": {},
   "outputs": [],
   "source": [
    "Ans:"
   ]
  },
  {
   "cell_type": "code",
   "execution_count": 35,
   "id": "21195017-d60d-4a26-8b89-4a0ccd66e554",
   "metadata": {},
   "outputs": [],
   "source": [
    "import math\n",
    "\n",
    "def normal_pdf(x, mu, sigma):\n",
    "    \"\"\"\n",
    "    Calculate the probability density function (PDF) of a normal distribution with\n",
    "    given mean and standard deviation at a given point.\n",
    "    \n",
    "    Args:\n",
    "    x (float): The point at which to evaluate the PDF.\n",
    "    mu (float): The mean of the normal distribution.\n",
    "    sigma (float): The standard deviation of the normal distribution.\n",
    "    \n",
    "    Returns:\n",
    "    float: The PDF of the normal distribution at the given point.\n",
    "    \"\"\"\n",
    "    coefficient = 1 / (sigma * math.sqrt(2 * math.pi))\n",
    "    exponent = -0.5 * ((x - mu) / sigma)**2\n",
    "    pdf = coefficient * math.exp(exponent)\n",
    "    return pdf\n"
   ]
  },
  {
   "cell_type": "code",
   "execution_count": 36,
   "id": "89546a4f-af63-4d1c-82cc-2afbc740bbaa",
   "metadata": {},
   "outputs": [
    {
     "name": "stdout",
     "output_type": "stream",
     "text": [
      "0.24197072451914337\n"
     ]
    }
   ],
   "source": [
    "pdf = normal_pdf(1, 0, 1)\n",
    "print(pdf) # Output: 0.24197072451914337"
   ]
  },
  {
   "cell_type": "markdown",
   "id": "7687f11e-a7b6-4f57-a8d8-da58f96e081e",
   "metadata": {},
   "source": [
    "Q4. What are the properties of Binomial distribution? Give two examples of events where binomial\n",
    "distribution can be applied."
   ]
  },
  {
   "cell_type": "markdown",
   "id": "4d53b384-2920-4ccb-966d-290b6b3b51fd",
   "metadata": {},
   "source": [
    "Ans :The properties of the binomial distribution are: There are two possible outcomes: true or false, success or failure, yes or no. There is 'n' number of independent trials or a fixed number of n times repeated trials. The probability of success or failure remains the same for each trial.\n",
    "Examples of Binomial Distribution\n",
    "1. Testing a Drug\n",
    "2. Participating in a Lucky Draw"
   ]
  },
  {
   "cell_type": "markdown",
   "id": "e2da2876-be7f-4e0e-9a79-c35f8c721f91",
   "metadata": {},
   "source": [
    "Q5. Generate a random sample of size 1000 from a binomial distribution with probability of success 0.4\n",
    "and plot a histogram of the results using matplotlib."
   ]
  },
  {
   "cell_type": "code",
   "execution_count": null,
   "id": "5d097a22-c5cb-43da-ab2f-1446750c8598",
   "metadata": {},
   "outputs": [],
   "source": [
    "Ans:"
   ]
  },
  {
   "cell_type": "code",
   "execution_count": 34,
   "id": "f18648b3-9725-4b90-8570-59b8e1552bad",
   "metadata": {},
   "outputs": [
    {
     "data": {
      "image/png": "[encoded data removed]",
      "text/plain": [
       "<Figure size 640x480 with 1 Axes>"
      ]
     },
     "metadata": {},
     "output_type": "display_data"
    }
   ],
   "source": [
    "import numpy as np\n",
    "import matplotlib.pyplot as plt\n",
    "\n",
    "# Set the seed for reproducibility\n",
    "np.random.seed(42)\n",
    "\n",
    "# Generate the random sample\n",
    "n = 1000 # number of trials\n",
    "p = 0.4 # probability of success\n",
    "sample = np.random.binomial(n, p, size=1000)\n",
    "\n",
    "# Plot the histogram\n",
    "plt.hist(sample, bins=25, density=True, alpha=0.6)\n",
    "plt.title('Binomial Distribution')\n",
    "plt.xlabel('Number of Successes')\n",
    "plt.ylabel('Frequency')\n",
    "plt.show()\n"
   ]
  },
  {
   "cell_type": "markdown",
   "id": "d6db9232-e220-453d-a00a-8849ef88e568",
   "metadata": {},
   "source": [
    "Q6. Write a Python function to calculate the cumulative distribution function of a Poisson distribution\n",
    "with given mean at a given point."
   ]
  },
  {
   "cell_type": "code",
   "execution_count": 39,
   "id": "cacadbf4-b060-454a-91d6-23349b5cd13e",
   "metadata": {},
   "outputs": [],
   "source": [
    "import math\n",
    "\n",
    "def poisson_cdf(k, mu):\n",
    "    \"\"\"\n",
    "    Calculate the cumulative distribution function (CDF) of a Poisson distribution with\n",
    "    given mean at a given point.\n",
    "    \n",
    "    Args:\n",
    "    k (int): The point at which to evaluate the CDF.\n",
    "    mu (float): The mean of the Poisson distribution.\n",
    "    \n",
    "    Returns:\n",
    "    float: The CDF of the Poisson distribution at the given point.\n",
    "    \"\"\"\n",
    "    cdf = 0\n",
    "    for i in range(k+1):\n",
    "        cdf += math.exp(-mu) * (mu**i) / math.factorial(i)\n",
    "    return cdf\n"
   ]
  },
  {
   "cell_type": "code",
   "execution_count": 40,
   "id": "cb0b089b-a1e8-4618-add2-db80aa224ab5",
   "metadata": {},
   "outputs": [
    {
     "name": "stdout",
     "output_type": "stream",
     "text": [
      "0.8571234604985472\n"
     ]
    }
   ],
   "source": [
    "cdf = poisson_cdf(3, 2)\n",
    "print(cdf) # Output: 0.857123460498547"
   ]
  },
  {
   "cell_type": "raw",
   "id": "d71fc17b-4e89-4e21-bf70-92353742d1dc",
   "metadata": {},
   "source": [
    "Q7. How Binomial distribution different from Poisson distribution?"
   ]
  },
  {
   "cell_type": "markdown",
   "id": "5f760bcd-6727-43ad-96da-2cbb0a8b9688",
   "metadata": {},
   "source": [
    "Ans :Binomial distribution describes the distribution of binary data from a finite sample. Thus it gives the probability of getting r events out of n trials. Poisson distribution describes the distribution of binary data from an infinite sample. Thus it gives the probability of getting r events in a population."
   ]
  },
  {
   "cell_type": "markdown",
   "id": "6838d863-f9ba-44de-a02a-ac673adccaa7",
   "metadata": {},
   "source": [
    "Q8. Generate a random sample of size 1000 from a Poisson distribution with mean 5 and calculate the\n",
    "sample mean and variance."
   ]
  },
  {
   "cell_type": "code",
   "execution_count": null,
   "id": "f1e38ce5-fcc4-44ea-b98f-ff806ca9afe7",
   "metadata": {},
   "outputs": [],
   "source": [
    "Ans:"
   ]
  },
  {
   "cell_type": "code",
   "execution_count": 41,
   "id": "94726d97-3dbf-4e68-91a0-2091784d4f5d",
   "metadata": {},
   "outputs": [
    {
     "name": "stdout",
     "output_type": "stream",
     "text": [
      "Sample Mean: 4.985\n",
      "Sample Variance: 5.001776776776777\n"
     ]
    }
   ],
   "source": [
    "import numpy as np\n",
    "\n",
    "# Set the seed for reproducibility\n",
    "np.random.seed(42)\n",
    "\n",
    "# Generate the random sample\n",
    "sample = np.random.poisson(lam=5, size=1000)\n",
    "\n",
    "# Calculate the sample mean and variance\n",
    "sample_mean = np.mean(sample)\n",
    "sample_var = np.var(sample, ddof=1)\n",
    "\n",
    "print(f\"Sample Mean: {sample_mean}\")\n",
    "print(f\"Sample Variance: {sample_var}\")\n"
   ]
  },
  {
   "cell_type": "markdown",
   "id": "bc0d3c4a-9498-4e4e-9b1b-6cc5c6946228",
   "metadata": {},
   "source": [
    "Q9. How mean and variance are related in Binomial distribution and Poisson distribution?"
   ]
  },
  {
   "cell_type": "markdown",
   "id": "534ee7a4-9cb2-41f4-afe1-39b5eb8cd8f7",
   "metadata": {},
   "source": [
    "Ans :The mean and the variance of the Poisson distribution are the same, which is equal to the average number of successes that occur in the given interval of time.\n",
    "\n",
    "The mean of the binomial distribution is np, and the variance of the binomial distribution is np (1 − p)."
   ]
  },
  {
   "cell_type": "markdown",
   "id": "0135c770-6451-4008-8fa0-80bb1b0a6b6c",
   "metadata": {},
   "source": [
    "Q10. In normal distribution with respect to mean position, where does the least frequent data appear?"
   ]
  },
  {
   "cell_type": "code",
   "execution_count": null,
   "id": "0a4c6751-eb04-4f0e-97ff-682276ce9f8e",
   "metadata": {},
   "outputs": [],
   "source": [
    "Ans :In a normal distribution, the least frequent data appears at the tails of the distribution."
   ]
  }
 ],
 "metadata": {
  "kernelspec": {
   "display_name": "Python 3 (ipykernel)",
   "language": "python",
   "name": "python3"
  },
  "language_info": {
   "codemirror_mode": {
    "name": "ipython",
    "version": 3
   },
   "file_extension": ".py",
   "mimetype": "text/x-python",
   "name": "python",
   "nbconvert_exporter": "python",
   "pygments_lexer": "ipython3",
   "version": "3.10.8"
  }
 },
 "nbformat": 4,
 "nbformat_minor": 5
}
